{
  "nbformat": 4,
  "nbformat_minor": 0,
  "metadata": {
    "colab": {
      "name": "Video_Games.ipynb",
      "provenance": [],
      "collapsed_sections": [],
      "toc_visible": true
    },
    "kernelspec": {
      "name": "python3",
      "display_name": "Python 3"
    },
    "accelerator": "GPU"
  },
  "cells": [
    {
      "cell_type": "code",
      "metadata": {
        "id": "i6wM8LdsO5WU"
      },
      "source": [
        "import pandas as pd\n",
        "from pandas.plotting import scatter_matrix\n",
        "import numpy as np\n",
        "import matplotlib.pyplot as plt\n",
        "from scipy.stats import randint, uniform\n",
        "from sklearn.model_selection import train_test_split\n",
        "from sklearn.preprocessing import PowerTransformer, StandardScaler, OneHotEncoder\n",
        "from sklearn.impute import SimpleImputer\n",
        "from sklearn.pipeline import Pipeline, make_pipeline\n",
        "from sklearn.compose import ColumnTransformer\n",
        "from scipy.sparse import csr_matrix\n",
        "from sklearn.linear_model import LinearRegression, Ridge, Lasso\n",
        "from sklearn.neighbors import KNeighborsRegressor\n",
        "from sklearn.preprocessing import PolynomialFeatures\n",
        "from sklearn.neural_network import MLPRegressor\n",
        "from sklearn.metrics import mean_squared_error\n",
        "from sklearn.model_selection import RandomizedSearchCV\n",
        "import warnings\n",
        "\n",
        "warnings.filterwarnings('ignore')\n",
        "pd.set_option('display.float_format', lambda x: '%.4f' %x)\n",
        "%matplotlib inline"
      ],
      "execution_count": 315,
      "outputs": []
    },
    {
      "cell_type": "markdown",
      "metadata": {
        "id": "K0XqydUYnDZ7"
      },
      "source": [
        "## Regression models"
      ]
    },
    {
      "cell_type": "markdown",
      "metadata": {
        "id": "w7v7IL8RyEpC"
      },
      "source": [
        "This notebook is intended to be an eternal exploration of the particularities of regression models"
      ]
    },
    {
      "cell_type": "markdown",
      "metadata": {
        "id": "QI-f1riru4Hk"
      },
      "source": [
        "### 1) Load data"
      ]
    },
    {
      "cell_type": "code",
      "metadata": {
        "colab": {
          "base_uri": "https://localhost:8080/",
          "height": 194
        },
        "id": "NsQMjPekBY1W",
        "outputId": "3282eb9d-bc83-47e9-e924-d546aceeaa2b"
      },
      "source": [
        "vg_df = pd.read_csv('./VG_Sales.csv')\n",
        "vg_df = vg_df.drop('Year_of_Release', axis=1)\n",
        "vg_df.head()"
      ],
      "execution_count": 2,
      "outputs": [
        {
          "output_type": "execute_result",
          "data": {
            "text/html": [
              "<div>\n",
              "<style scoped>\n",
              "    .dataframe tbody tr th:only-of-type {\n",
              "        vertical-align: middle;\n",
              "    }\n",
              "\n",
              "    .dataframe tbody tr th {\n",
              "        vertical-align: top;\n",
              "    }\n",
              "\n",
              "    .dataframe thead th {\n",
              "        text-align: right;\n",
              "    }\n",
              "</style>\n",
              "<table border=\"1\" class=\"dataframe\">\n",
              "  <thead>\n",
              "    <tr style=\"text-align: right;\">\n",
              "      <th></th>\n",
              "      <th>Name</th>\n",
              "      <th>Platform</th>\n",
              "      <th>Publisher</th>\n",
              "      <th>Developer</th>\n",
              "      <th>Genre</th>\n",
              "      <th>Rating</th>\n",
              "      <th>Critic_Score</th>\n",
              "      <th>Critic_Count</th>\n",
              "      <th>User_Score</th>\n",
              "      <th>User_Count</th>\n",
              "      <th>Global_Sales</th>\n",
              "    </tr>\n",
              "  </thead>\n",
              "  <tbody>\n",
              "    <tr>\n",
              "      <th>0</th>\n",
              "      <td>Wii Sports</td>\n",
              "      <td>Wii</td>\n",
              "      <td>Nintendo</td>\n",
              "      <td>Nintendo</td>\n",
              "      <td>Sports</td>\n",
              "      <td>E</td>\n",
              "      <td>76.0</td>\n",
              "      <td>51.0</td>\n",
              "      <td>8</td>\n",
              "      <td>322.0</td>\n",
              "      <td>82.53</td>\n",
              "    </tr>\n",
              "    <tr>\n",
              "      <th>1</th>\n",
              "      <td>Super Mario Bros.</td>\n",
              "      <td>NES</td>\n",
              "      <td>Nintendo</td>\n",
              "      <td>NaN</td>\n",
              "      <td>Platform</td>\n",
              "      <td>NaN</td>\n",
              "      <td>NaN</td>\n",
              "      <td>NaN</td>\n",
              "      <td>NaN</td>\n",
              "      <td>NaN</td>\n",
              "      <td>40.24</td>\n",
              "    </tr>\n",
              "    <tr>\n",
              "      <th>2</th>\n",
              "      <td>Mario Kart Wii</td>\n",
              "      <td>Wii</td>\n",
              "      <td>Nintendo</td>\n",
              "      <td>Nintendo</td>\n",
              "      <td>Racing</td>\n",
              "      <td>E</td>\n",
              "      <td>82.0</td>\n",
              "      <td>73.0</td>\n",
              "      <td>8.3</td>\n",
              "      <td>709.0</td>\n",
              "      <td>35.52</td>\n",
              "    </tr>\n",
              "    <tr>\n",
              "      <th>3</th>\n",
              "      <td>Wii Sports Resort</td>\n",
              "      <td>Wii</td>\n",
              "      <td>Nintendo</td>\n",
              "      <td>Nintendo</td>\n",
              "      <td>Sports</td>\n",
              "      <td>E</td>\n",
              "      <td>80.0</td>\n",
              "      <td>73.0</td>\n",
              "      <td>8</td>\n",
              "      <td>192.0</td>\n",
              "      <td>32.77</td>\n",
              "    </tr>\n",
              "    <tr>\n",
              "      <th>4</th>\n",
              "      <td>Pokemon Red/Pokemon Blue</td>\n",
              "      <td>GB</td>\n",
              "      <td>Nintendo</td>\n",
              "      <td>NaN</td>\n",
              "      <td>Role-Playing</td>\n",
              "      <td>NaN</td>\n",
              "      <td>NaN</td>\n",
              "      <td>NaN</td>\n",
              "      <td>NaN</td>\n",
              "      <td>NaN</td>\n",
              "      <td>31.37</td>\n",
              "    </tr>\n",
              "  </tbody>\n",
              "</table>\n",
              "</div>"
            ],
            "text/plain": [
              "                       Name Platform  ... User_Count Global_Sales\n",
              "0                Wii Sports      Wii  ...      322.0        82.53\n",
              "1         Super Mario Bros.      NES  ...        NaN        40.24\n",
              "2            Mario Kart Wii      Wii  ...      709.0        35.52\n",
              "3         Wii Sports Resort      Wii  ...      192.0        32.77\n",
              "4  Pokemon Red/Pokemon Blue       GB  ...        NaN        31.37\n",
              "\n",
              "[5 rows x 11 columns]"
            ]
          },
          "metadata": {
            "tags": []
          },
          "execution_count": 2
        }
      ]
    },
    {
      "cell_type": "markdown",
      "metadata": {
        "id": "Xjco-WpbvHHg"
      },
      "source": [
        "### 2) Explore data"
      ]
    },
    {
      "cell_type": "code",
      "metadata": {
        "colab": {
          "base_uri": "https://localhost:8080/"
        },
        "id": "5FqyV0xmBkJV",
        "outputId": "7d2ca827-50ff-47dc-e2d0-d51d55ed8f56"
      },
      "source": [
        "vg_df.info()"
      ],
      "execution_count": null,
      "outputs": [
        {
          "output_type": "stream",
          "text": [
            "<class 'pandas.core.frame.DataFrame'>\n",
            "RangeIndex: 16719 entries, 0 to 16718\n",
            "Data columns (total 11 columns):\n",
            " #   Column        Non-Null Count  Dtype  \n",
            "---  ------        --------------  -----  \n",
            " 0   Name          16717 non-null  object \n",
            " 1   Platform      16719 non-null  object \n",
            " 2   Publisher     16665 non-null  object \n",
            " 3   Developer     10096 non-null  object \n",
            " 4   Genre         16717 non-null  object \n",
            " 5   Rating        9950 non-null   object \n",
            " 6   Critic_Score  8137 non-null   float64\n",
            " 7   Critic_Count  8137 non-null   float64\n",
            " 8   User_Score    10015 non-null  object \n",
            " 9   User_Count    7590 non-null   float64\n",
            " 10  Global_Sales  16719 non-null  float64\n",
            "dtypes: float64(4), object(7)\n",
            "memory usage: 1.4+ MB\n"
          ],
          "name": "stdout"
        }
      ]
    },
    {
      "cell_type": "code",
      "metadata": {
        "colab": {
          "base_uri": "https://localhost:8080/"
        },
        "id": "LF1u0AB4iTmb",
        "outputId": "7114d09a-d583-4541-f0f9-82d6b8aa55ef"
      },
      "source": [
        "# User_Score as object indicates presence of non-numerical values\n",
        "vg_df['User_Score'].value_counts()"
      ],
      "execution_count": null,
      "outputs": [
        {
          "output_type": "execute_result",
          "data": {
            "text/plain": [
              "tbd    2425\n",
              "7.8     324\n",
              "8       290\n",
              "8.2     282\n",
              "8.3     254\n",
              "       ... \n",
              "1.9       2\n",
              "2.3       2\n",
              "1.1       2\n",
              "0         1\n",
              "9.7       1\n",
              "Name: User_Score, Length: 96, dtype: int64"
            ]
          },
          "metadata": {
            "tags": []
          },
          "execution_count": 171
        }
      ]
    },
    {
      "cell_type": "code",
      "metadata": {
        "colab": {
          "base_uri": "https://localhost:8080/",
          "height": 282
        },
        "id": "cOTp6pBBinFC",
        "outputId": "96832a62-d3bf-43fd-ddb3-34baf4ff051f"
      },
      "source": [
        "# Substitute 'tbd' for NaN values\n",
        "vg_df['User_Score'].replace(to_replace='tbd', value=None, inplace=True)\n",
        "# Convert column to float dtype\n",
        "vg_df['User_Score'] = vg_df['User_Score'].astype(float)\n",
        "vg_df.describe()"
      ],
      "execution_count": 3,
      "outputs": [
        {
          "output_type": "execute_result",
          "data": {
            "text/html": [
              "<div>\n",
              "<style scoped>\n",
              "    .dataframe tbody tr th:only-of-type {\n",
              "        vertical-align: middle;\n",
              "    }\n",
              "\n",
              "    .dataframe tbody tr th {\n",
              "        vertical-align: top;\n",
              "    }\n",
              "\n",
              "    .dataframe thead th {\n",
              "        text-align: right;\n",
              "    }\n",
              "</style>\n",
              "<table border=\"1\" class=\"dataframe\">\n",
              "  <thead>\n",
              "    <tr style=\"text-align: right;\">\n",
              "      <th></th>\n",
              "      <th>Critic_Score</th>\n",
              "      <th>Critic_Count</th>\n",
              "      <th>User_Score</th>\n",
              "      <th>User_Count</th>\n",
              "      <th>Global_Sales</th>\n",
              "    </tr>\n",
              "  </thead>\n",
              "  <tbody>\n",
              "    <tr>\n",
              "      <th>count</th>\n",
              "      <td>8137.000000</td>\n",
              "      <td>8137.000000</td>\n",
              "      <td>8760.000000</td>\n",
              "      <td>7590.000000</td>\n",
              "      <td>16719.000000</td>\n",
              "    </tr>\n",
              "    <tr>\n",
              "      <th>mean</th>\n",
              "      <td>68.967679</td>\n",
              "      <td>26.360821</td>\n",
              "      <td>7.099749</td>\n",
              "      <td>162.229908</td>\n",
              "      <td>0.533543</td>\n",
              "    </tr>\n",
              "    <tr>\n",
              "      <th>std</th>\n",
              "      <td>13.938165</td>\n",
              "      <td>18.980495</td>\n",
              "      <td>1.520065</td>\n",
              "      <td>561.282326</td>\n",
              "      <td>1.547935</td>\n",
              "    </tr>\n",
              "    <tr>\n",
              "      <th>min</th>\n",
              "      <td>13.000000</td>\n",
              "      <td>3.000000</td>\n",
              "      <td>0.000000</td>\n",
              "      <td>4.000000</td>\n",
              "      <td>0.010000</td>\n",
              "    </tr>\n",
              "    <tr>\n",
              "      <th>25%</th>\n",
              "      <td>60.000000</td>\n",
              "      <td>12.000000</td>\n",
              "      <td>6.400000</td>\n",
              "      <td>10.000000</td>\n",
              "      <td>0.060000</td>\n",
              "    </tr>\n",
              "    <tr>\n",
              "      <th>50%</th>\n",
              "      <td>71.000000</td>\n",
              "      <td>21.000000</td>\n",
              "      <td>7.500000</td>\n",
              "      <td>24.000000</td>\n",
              "      <td>0.170000</td>\n",
              "    </tr>\n",
              "    <tr>\n",
              "      <th>75%</th>\n",
              "      <td>79.000000</td>\n",
              "      <td>36.000000</td>\n",
              "      <td>8.200000</td>\n",
              "      <td>81.000000</td>\n",
              "      <td>0.470000</td>\n",
              "    </tr>\n",
              "    <tr>\n",
              "      <th>max</th>\n",
              "      <td>98.000000</td>\n",
              "      <td>113.000000</td>\n",
              "      <td>9.700000</td>\n",
              "      <td>10665.000000</td>\n",
              "      <td>82.530000</td>\n",
              "    </tr>\n",
              "  </tbody>\n",
              "</table>\n",
              "</div>"
            ],
            "text/plain": [
              "       Critic_Score  Critic_Count   User_Score    User_Count  Global_Sales\n",
              "count   8137.000000   8137.000000  8760.000000   7590.000000  16719.000000\n",
              "mean      68.967679     26.360821     7.099749    162.229908      0.533543\n",
              "std       13.938165     18.980495     1.520065    561.282326      1.547935\n",
              "min       13.000000      3.000000     0.000000      4.000000      0.010000\n",
              "25%       60.000000     12.000000     6.400000     10.000000      0.060000\n",
              "50%       71.000000     21.000000     7.500000     24.000000      0.170000\n",
              "75%       79.000000     36.000000     8.200000     81.000000      0.470000\n",
              "max       98.000000    113.000000     9.700000  10665.000000     82.530000"
            ]
          },
          "metadata": {
            "tags": []
          },
          "execution_count": 3
        }
      ]
    },
    {
      "cell_type": "markdown",
      "metadata": {
        "id": "fKxh4nMzfatL"
      },
      "source": [
        "#### Histograms"
      ]
    },
    {
      "cell_type": "code",
      "metadata": {
        "colab": {
          "base_uri": "https://localhost:8080/",
          "height": 516
        },
        "id": "GCf0mD5Ckv-3",
        "outputId": "7d0bbdc4-4653-431b-f922-cb0a7a24b56d"
      },
      "source": [
        "numerical_cols = ['Critic_Score', 'Critic_Count', 'User_Score', 'User_Count', 'Global_Sales']\n",
        "scatter_matrix(vg_df[numerical_cols], figsize=(12,8))\n",
        "plt.show()"
      ],
      "execution_count": 188,
      "outputs": [
        {
          "output_type": "display_data",
          "data": {
            "image/png": "[encoded data removed]",
            "text/plain": [
              "<Figure size 864x576 with 25 Axes>"
            ]
          },
          "metadata": {
            "tags": [],
            "needs_background": "light"
          }
        }
      ]
    },
    {
      "cell_type": "markdown",
      "metadata": {
        "id": "2xFnkugXB6JG"
      },
      "source": [
        "Describe() results and histograms analysis:\n",
        "- Critic_Count, User_Count and Global_Sales have tail-heavy distributions, that is, they extend much farther to the right of the median than to the left. Thefore, we will need to transform them to have more bell-shaped distributions and make it easier for our algorithms to detect patterns\n",
        "- Since Critic_Score and User_Score have more 'normal-like' distributions, we will only scale them"
      ]
    },
    {
      "cell_type": "markdown",
      "metadata": {
        "id": "FyOaMkgJfg2E"
      },
      "source": [
        "#### Correlations"
      ]
    },
    {
      "cell_type": "code",
      "metadata": {
        "colab": {
          "base_uri": "https://localhost:8080/"
        },
        "id": "bZe3KNjyuA63",
        "outputId": "c06f6456-3b93-45de-b19f-97574bdebd74"
      },
      "source": [
        "# Correlations\n",
        "correlation_matrix = vg_df.corr()\n",
        "correlation_matrix['Global_Sales'].sort_values(ascending=False)"
      ],
      "execution_count": null,
      "outputs": [
        {
          "output_type": "execute_result",
          "data": {
            "text/plain": [
              "Global_Sales    1.000000\n",
              "Critic_Count    0.303571\n",
              "User_Count      0.265012\n",
              "Critic_Score    0.245471\n",
              "User_Score      0.087558\n",
              "Name: Global_Sales, dtype: float64"
            ]
          },
          "metadata": {
            "tags": []
          },
          "execution_count": 174
        }
      ]
    },
    {
      "cell_type": "code",
      "metadata": {
        "colab": {
          "base_uri": "https://localhost:8080/"
        },
        "id": "Sq8_qxMzue87",
        "outputId": "b12b77f1-1205-4765-c00d-9d4abebede76"
      },
      "source": [
        "correlation_matrix['Critic_Score'].sort_values(ascending=False)"
      ],
      "execution_count": null,
      "outputs": [
        {
          "output_type": "execute_result",
          "data": {
            "text/plain": [
              "Critic_Score    1.000000\n",
              "User_Score      0.541718\n",
              "Critic_Count    0.425504\n",
              "User_Count      0.264376\n",
              "Global_Sales    0.245471\n",
              "Name: Critic_Score, dtype: float64"
            ]
          },
          "metadata": {
            "tags": []
          },
          "execution_count": 175
        }
      ]
    },
    {
      "cell_type": "code",
      "metadata": {
        "colab": {
          "base_uri": "https://localhost:8080/"
        },
        "id": "UAJ82afXulZ1",
        "outputId": "c982928d-ae03-48d0-fdea-59b85d8fd732"
      },
      "source": [
        "correlation_matrix['User_Score'].sort_values(ascending=False)"
      ],
      "execution_count": null,
      "outputs": [
        {
          "output_type": "execute_result",
          "data": {
            "text/plain": [
              "User_Score      1.000000\n",
              "Critic_Score    0.541718\n",
              "Critic_Count    0.194028\n",
              "Global_Sales    0.087558\n",
              "User_Count      0.027044\n",
              "Name: User_Score, dtype: float64"
            ]
          },
          "metadata": {
            "tags": []
          },
          "execution_count": 176
        }
      ]
    },
    {
      "cell_type": "markdown",
      "metadata": {
        "id": "vDRZGLGVCYxR"
      },
      "source": [
        "Correlations analysis:\n",
        "- Independent variables don't have particularly strong linear relationships with the dependent variable > correlations around and below 0.30\n",
        "- Also, we have no multicollinearity issues (strong linear relationship betwen two independent variable), since no correlations are higher than 0.7 (rule of thumb generally used)"
      ]
    },
    {
      "cell_type": "markdown",
      "metadata": {
        "id": "5MXEbTcvfwl_"
      },
      "source": [
        "#### Drop missing values and categorical columns"
      ]
    },
    {
      "cell_type": "markdown",
      "metadata": {
        "id": "Mqqae7YAoBzw"
      },
      "source": [
        "Developer and Publisher columns have too much value variability and no easy way for aggregating these values. Because of that, we will drop these columns"
      ]
    },
    {
      "cell_type": "code",
      "metadata": {
        "colab": {
          "base_uri": "https://localhost:8080/"
        },
        "id": "Y1ns485LTYaQ",
        "outputId": "b5e59133-1464-4390-f56e-491c491e9a18"
      },
      "source": [
        "vg_df['Developer'].value_counts()"
      ],
      "execution_count": null,
      "outputs": [
        {
          "output_type": "execute_result",
          "data": {
            "text/plain": [
              "Ubisoft                        204\n",
              "EA Sports                      172\n",
              "EA Canada                      167\n",
              "Konami                         162\n",
              "Capcom                         139\n",
              "                              ... \n",
              "WildTangent                      1\n",
              "Sunrise Interactive              1\n",
              "Realtime Worlds                  1\n",
              "Triple Eh? Ltd                   1\n",
              "Game Arts, Seta Corporation      1\n",
              "Name: Developer, Length: 1696, dtype: int64"
            ]
          },
          "metadata": {
            "tags": []
          },
          "execution_count": 123
        }
      ]
    },
    {
      "cell_type": "code",
      "metadata": {
        "colab": {
          "base_uri": "https://localhost:8080/"
        },
        "id": "0h9iYDJolsuS",
        "outputId": "767dfbc3-0011-4c5c-f2e2-1ea8e942381a"
      },
      "source": [
        "vg_df['Publisher'].value_counts()"
      ],
      "execution_count": null,
      "outputs": [
        {
          "output_type": "execute_result",
          "data": {
            "text/plain": [
              "Electronic Arts                 1356\n",
              "Activision                       985\n",
              "Namco Bandai Games               939\n",
              "Ubisoft                          933\n",
              "Konami Digital Entertainment     834\n",
              "                                ... \n",
              "Game Arts                          1\n",
              "Fortyfive                          1\n",
              "Takuyo                             1\n",
              "SPS                                1\n",
              "Ongakukan                          1\n",
              "Name: Publisher, Length: 581, dtype: int64"
            ]
          },
          "metadata": {
            "tags": []
          },
          "execution_count": 124
        }
      ]
    },
    {
      "cell_type": "code",
      "metadata": {
        "id": "UpQ_n5L3oRDY"
      },
      "source": [
        "vg_df = vg_df.drop(['Developer','Publisher'], axis=1)"
      ],
      "execution_count": 4,
      "outputs": []
    },
    {
      "cell_type": "markdown",
      "metadata": {
        "id": "t13ruD7aoycg"
      },
      "source": [
        "Critic_Count and User_Count have more than 50% of their values missing. But they are the numerical features with higher correlation with our labels (Global_Sales): 0.30 and 0.27, respectively. Because of this, we will drop rows with missing values"
      ]
    },
    {
      "cell_type": "code",
      "metadata": {
        "colab": {
          "base_uri": "https://localhost:8080/"
        },
        "id": "oXRDuozioXHi",
        "outputId": "0863534c-4123-48fa-834a-ab8e97141d23"
      },
      "source": [
        "critic_count_p_missing = round(vg_df['Critic_Count'].isna().sum()/len(vg_df)*100, 2)\n",
        "user_count_p_missing = round(vg_df['User_Count'].isna().sum()/len(vg_df)*100, 2)\n",
        "print('Critic_Count, % missing: {}%'.format(critic_count_p_missing))\n",
        "print('User_Count, % missing: {}%'.format(user_count_p_missing))"
      ],
      "execution_count": null,
      "outputs": [
        {
          "output_type": "stream",
          "text": [
            "Critic_Count, % missing: 51.33%\n",
            "User_Count, % missing: 54.6%\n"
          ],
          "name": "stdout"
        }
      ]
    },
    {
      "cell_type": "code",
      "metadata": {
        "id": "XDSJRBFnce3z"
      },
      "source": [
        "vg_df.dropna(subset=['Critic_Count'], axis=0, how='any', inplace=True)\n",
        "vg_df.dropna(subset=['User_Count'], axis=0, how='any', inplace=True)"
      ],
      "execution_count": 5,
      "outputs": []
    },
    {
      "cell_type": "markdown",
      "metadata": {
        "id": "BZhsBdHumqIY"
      },
      "source": [
        "#### Categories removal"
      ]
    },
    {
      "cell_type": "markdown",
      "metadata": {
        "id": "paVDeK04L21l"
      },
      "source": [
        "Remove platforms, genres and ratings with less than 100 games, in order to restrict number of categorical features"
      ]
    },
    {
      "cell_type": "code",
      "metadata": {
        "colab": {
          "base_uri": "https://localhost:8080/"
        },
        "id": "iyiaLczhKryl",
        "outputId": "7be1030e-d086-4d84-cea3-37d06fba3ba8"
      },
      "source": [
        "vg_df['Platform'].value_counts()"
      ],
      "execution_count": null,
      "outputs": [
        {
          "output_type": "execute_result",
          "data": {
            "text/plain": [
              "PS2     1161\n",
              "X360     881\n",
              "PS3      790\n",
              "PC       703\n",
              "XB       581\n",
              "Wii      492\n",
              "DS       469\n",
              "PSP      393\n",
              "GC       356\n",
              "PS4      249\n",
              "GBA      241\n",
              "XOne     165\n",
              "3DS      158\n",
              "PS       156\n",
              "PSV      119\n",
              "WiiU      89\n",
              "DC        14\n",
              "Name: Platform, dtype: int64"
            ]
          },
          "metadata": {
            "tags": []
          },
          "execution_count": 229
        }
      ]
    },
    {
      "cell_type": "code",
      "metadata": {
        "id": "wLC8f3PRQqSe"
      },
      "source": [
        "# Remove bottom 2\n",
        "plat_removal_list = list(vg_df['Platform'].value_counts()[vg_df['Platform'].value_counts() < 100].index)\n",
        "plat_keep_list = [plat for plat in pd.unique(vg_df['Platform']) if plat not in plat_removal_list]\n",
        "vg_df = vg_df[vg_df['Platform'].isin(plat_keep_list)].copy()"
      ],
      "execution_count": 6,
      "outputs": []
    },
    {
      "cell_type": "code",
      "metadata": {
        "colab": {
          "base_uri": "https://localhost:8080/"
        },
        "id": "eUPk5CVePdRX",
        "outputId": "6eef893d-5a4b-4270-c2ac-6590ff6a6eeb"
      },
      "source": [
        "vg_df['Genre'].value_counts()"
      ],
      "execution_count": null,
      "outputs": [
        {
          "output_type": "execute_result",
          "data": {
            "text/plain": [
              "Action          1638\n",
              "Sports           966\n",
              "Shooter          880\n",
              "Role-Playing     715\n",
              "Racing           595\n",
              "Platform         391\n",
              "Misc             384\n",
              "Fighting         378\n",
              "Simulation       304\n",
              "Strategy         283\n",
              "Adventure        262\n",
              "Puzzle           118\n",
              "Name: Genre, dtype: int64"
            ]
          },
          "metadata": {
            "tags": []
          },
          "execution_count": 220
        }
      ]
    },
    {
      "cell_type": "code",
      "metadata": {
        "id": "ib29Nr1CSF60"
      },
      "source": [
        "# No removal"
      ],
      "execution_count": null,
      "outputs": []
    },
    {
      "cell_type": "code",
      "metadata": {
        "colab": {
          "base_uri": "https://localhost:8080/"
        },
        "id": "azCu8ACgPyl7",
        "outputId": "c900a048-4e95-4734-e369-7c2ff456d1f6"
      },
      "source": [
        "vg_df['Rating'].value_counts()"
      ],
      "execution_count": null,
      "outputs": [
        {
          "output_type": "execute_result",
          "data": {
            "text/plain": [
              "T       2400\n",
              "E       2086\n",
              "M       1444\n",
              "E10+     910\n",
              "RP         2\n",
              "AO         1\n",
              "K-A        1\n",
              "Name: Rating, dtype: int64"
            ]
          },
          "metadata": {
            "tags": []
          },
          "execution_count": 223
        }
      ]
    },
    {
      "cell_type": "code",
      "metadata": {
        "id": "zihwWGMsSIMM"
      },
      "source": [
        "# Remove bottom 3\n",
        "rating_removal_list = list(vg_df['Rating'].value_counts()[vg_df['Rating'].value_counts() < 100].index)\n",
        "rating_keep_list = [rating for rating in pd.unique(vg_df['Rating']) if rating not in rating_removal_list]\n",
        "vg_df = vg_df[vg_df['Rating'].isin(rating_keep_list)].copy()\n",
        "vg_df = vg_df.reset_index(drop=True)"
      ],
      "execution_count": 7,
      "outputs": []
    },
    {
      "cell_type": "markdown",
      "metadata": {
        "id": "Y7eyA3c2kiAL"
      },
      "source": [
        "### 3) Preprocessing"
      ]
    },
    {
      "cell_type": "markdown",
      "metadata": {
        "id": "1ApENitfSAgZ"
      },
      "source": [
        "#### Split data    "
      ]
    },
    {
      "cell_type": "code",
      "metadata": {
        "colab": {
          "base_uri": "https://localhost:8080/"
        },
        "id": "LiI_7AxKEejh",
        "outputId": "0ee58ac6-781e-4c5a-f331-29af7d108d3c"
      },
      "source": [
        "Y = vg_df['Global_Sales'].copy()\n",
        "features_df = vg_df.drop(['Name', 'Global_Sales'], axis=1).copy()\n",
        "X_train, X_test, Y_train, Y_test = train_test_split(features_df, Y, test_size=0.2, shuffle=True, random_state=0)\n",
        "max_Y_train = max(Y_train)\n",
        "X_train.shape, X_test.shape"
      ],
      "execution_count": 275,
      "outputs": [
        {
          "output_type": "execute_result",
          "data": {
            "text/plain": [
              "((5528, 7), (1382, 7))"
            ]
          },
          "metadata": {
            "tags": []
          },
          "execution_count": 275
        }
      ]
    },
    {
      "cell_type": "code",
      "metadata": {
        "id": "NBoUSQmJy-Gx"
      },
      "source": [
        "num_transform_cols = ['Critic_Count', 'User_Count']\n",
        "num_scale_cols = ['Critic_Score', 'User_Score']\n",
        "cat_cols = ['Platform', 'Genre', 'Rating']"
      ],
      "execution_count": 276,
      "outputs": []
    },
    {
      "cell_type": "markdown",
      "metadata": {
        "id": "6hgQZB9qtgSU"
      },
      "source": [
        "#### Define and run transformation (feature engineering) pipelines"
      ]
    },
    {
      "cell_type": "code",
      "metadata": {
        "id": "HUzIdavoEypd"
      },
      "source": [
        "# Transform tail-heavy variables with Box-Cox\n",
        "# Box-Cox definition\n",
        "# y = (x**lmbda - 1) / lmbda,  for lmbda > 0\n",
        "#     log(x),                  for lmbda = 0\n",
        "# Transformer maximizes the log-likelihood function, that is, searches for optimal value of lmbda\n",
        "# Here, optimal means the value that brings input distribution closer to a Gaussian distribution\n",
        "# Also, if standardize=True, distribution is normalized to have zero-mean and unit-variance\n",
        "num_transform_pipeline = Pipeline([\n",
        "        ('box-cox', PowerTransformer(method='box-cox', standardize=True))\n",
        "])\n",
        "\n",
        "# Zero-mean, unit-variance normalization   \n",
        "num_scale_pipeline = Pipeline([\n",
        "        ('std_scaler', StandardScaler())\n",
        "])\n",
        "\n",
        "# Impute mode (most frequent)   \n",
        "cat_pipeline = Pipeline([\n",
        "        ('imputer', SimpleImputer(strategy='most_frequent')),\n",
        "        ('one-hot', OneHotEncoder())\n",
        "])\n",
        "\n",
        "# If sparse_threshold != 0, returns sparse matrix if overall density (%) is lower than this value\n",
        "full_pipeline = ColumnTransformer([\n",
        "        ('num_transform', num_transform_pipeline, num_transform_cols),\n",
        "        ('num_scale', num_scale_pipeline, num_scale_cols),\n",
        "        ('cat', cat_pipeline, cat_cols)\n",
        "], sparse_threshold=0)"
      ],
      "execution_count": 277,
      "outputs": []
    },
    {
      "cell_type": "code",
      "metadata": {
        "id": "n2Mq-StvNoGm"
      },
      "source": [
        "X_train_final = full_pipeline.fit_transform(X_train)\n",
        "X_test_final = full_pipeline.transform(X_test)"
      ],
      "execution_count": 278,
      "outputs": []
    },
    {
      "cell_type": "markdown",
      "metadata": {
        "id": "r5oyuPcVJW3F"
      },
      "source": [
        "##### Visualize features"
      ]
    },
    {
      "cell_type": "code",
      "metadata": {
        "colab": {
          "base_uri": "https://localhost:8080/",
          "height": 419
        },
        "id": "H_ColwZ3N2CJ",
        "outputId": "a191a458-3922-46fc-9446-9d8f3e08e64b"
      },
      "source": [
        "pd.DataFrame(X_train_final)"
      ],
      "execution_count": 279,
      "outputs": [
        {
          "output_type": "execute_result",
          "data": {
            "text/html": [
              "<div>\n",
              "<style scoped>\n",
              "    .dataframe tbody tr th:only-of-type {\n",
              "        vertical-align: middle;\n",
              "    }\n",
              "\n",
              "    .dataframe tbody tr th {\n",
              "        vertical-align: top;\n",
              "    }\n",
              "\n",
              "    .dataframe thead th {\n",
              "        text-align: right;\n",
              "    }\n",
              "</style>\n",
              "<table border=\"1\" class=\"dataframe\">\n",
              "  <thead>\n",
              "    <tr style=\"text-align: right;\">\n",
              "      <th></th>\n",
              "      <th>0</th>\n",
              "      <th>1</th>\n",
              "      <th>2</th>\n",
              "      <th>3</th>\n",
              "      <th>4</th>\n",
              "      <th>5</th>\n",
              "      <th>6</th>\n",
              "      <th>7</th>\n",
              "      <th>8</th>\n",
              "      <th>9</th>\n",
              "      <th>10</th>\n",
              "      <th>11</th>\n",
              "      <th>12</th>\n",
              "      <th>13</th>\n",
              "      <th>14</th>\n",
              "      <th>15</th>\n",
              "      <th>16</th>\n",
              "      <th>17</th>\n",
              "      <th>18</th>\n",
              "      <th>19</th>\n",
              "      <th>20</th>\n",
              "      <th>21</th>\n",
              "      <th>22</th>\n",
              "      <th>23</th>\n",
              "      <th>24</th>\n",
              "      <th>25</th>\n",
              "      <th>26</th>\n",
              "      <th>27</th>\n",
              "      <th>28</th>\n",
              "      <th>29</th>\n",
              "      <th>30</th>\n",
              "      <th>31</th>\n",
              "      <th>32</th>\n",
              "      <th>33</th>\n",
              "      <th>34</th>\n",
              "    </tr>\n",
              "  </thead>\n",
              "  <tbody>\n",
              "    <tr>\n",
              "      <th>0</th>\n",
              "      <td>1.050041</td>\n",
              "      <td>1.069415</td>\n",
              "      <td>0.202917</td>\n",
              "      <td>0.361973</td>\n",
              "      <td>0.0</td>\n",
              "      <td>0.0</td>\n",
              "      <td>0.0</td>\n",
              "      <td>0.0</td>\n",
              "      <td>0.0</td>\n",
              "      <td>0.0</td>\n",
              "      <td>1.0</td>\n",
              "      <td>0.0</td>\n",
              "      <td>0.0</td>\n",
              "      <td>0.0</td>\n",
              "      <td>0.0</td>\n",
              "      <td>0.0</td>\n",
              "      <td>0.0</td>\n",
              "      <td>0.0</td>\n",
              "      <td>0.0</td>\n",
              "      <td>1.0</td>\n",
              "      <td>0.0</td>\n",
              "      <td>0.0</td>\n",
              "      <td>0.0</td>\n",
              "      <td>0.0</td>\n",
              "      <td>0.0</td>\n",
              "      <td>0.0</td>\n",
              "      <td>0.0</td>\n",
              "      <td>0.0</td>\n",
              "      <td>0.0</td>\n",
              "      <td>0.0</td>\n",
              "      <td>0.0</td>\n",
              "      <td>0.0</td>\n",
              "      <td>0.0</td>\n",
              "      <td>1.0</td>\n",
              "      <td>0.0</td>\n",
              "    </tr>\n",
              "    <tr>\n",
              "      <th>1</th>\n",
              "      <td>-0.335614</td>\n",
              "      <td>0.439543</td>\n",
              "      <td>1.071124</td>\n",
              "      <td>1.192143</td>\n",
              "      <td>0.0</td>\n",
              "      <td>0.0</td>\n",
              "      <td>0.0</td>\n",
              "      <td>0.0</td>\n",
              "      <td>0.0</td>\n",
              "      <td>0.0</td>\n",
              "      <td>1.0</td>\n",
              "      <td>0.0</td>\n",
              "      <td>0.0</td>\n",
              "      <td>0.0</td>\n",
              "      <td>0.0</td>\n",
              "      <td>0.0</td>\n",
              "      <td>0.0</td>\n",
              "      <td>0.0</td>\n",
              "      <td>0.0</td>\n",
              "      <td>0.0</td>\n",
              "      <td>0.0</td>\n",
              "      <td>0.0</td>\n",
              "      <td>0.0</td>\n",
              "      <td>0.0</td>\n",
              "      <td>0.0</td>\n",
              "      <td>1.0</td>\n",
              "      <td>0.0</td>\n",
              "      <td>0.0</td>\n",
              "      <td>0.0</td>\n",
              "      <td>0.0</td>\n",
              "      <td>0.0</td>\n",
              "      <td>0.0</td>\n",
              "      <td>1.0</td>\n",
              "      <td>0.0</td>\n",
              "      <td>0.0</td>\n",
              "    </tr>\n",
              "    <tr>\n",
              "      <th>2</th>\n",
              "      <td>-0.200571</td>\n",
              "      <td>-0.550540</td>\n",
              "      <td>-0.158836</td>\n",
              "      <td>1.053782</td>\n",
              "      <td>0.0</td>\n",
              "      <td>0.0</td>\n",
              "      <td>0.0</td>\n",
              "      <td>0.0</td>\n",
              "      <td>0.0</td>\n",
              "      <td>0.0</td>\n",
              "      <td>1.0</td>\n",
              "      <td>0.0</td>\n",
              "      <td>0.0</td>\n",
              "      <td>0.0</td>\n",
              "      <td>0.0</td>\n",
              "      <td>0.0</td>\n",
              "      <td>0.0</td>\n",
              "      <td>0.0</td>\n",
              "      <td>0.0</td>\n",
              "      <td>0.0</td>\n",
              "      <td>0.0</td>\n",
              "      <td>0.0</td>\n",
              "      <td>0.0</td>\n",
              "      <td>0.0</td>\n",
              "      <td>0.0</td>\n",
              "      <td>0.0</td>\n",
              "      <td>0.0</td>\n",
              "      <td>0.0</td>\n",
              "      <td>0.0</td>\n",
              "      <td>0.0</td>\n",
              "      <td>1.0</td>\n",
              "      <td>0.0</td>\n",
              "      <td>0.0</td>\n",
              "      <td>0.0</td>\n",
              "      <td>1.0</td>\n",
              "    </tr>\n",
              "    <tr>\n",
              "      <th>3</th>\n",
              "      <td>-0.481884</td>\n",
              "      <td>-1.364248</td>\n",
              "      <td>-1.678198</td>\n",
              "      <td>0.777058</td>\n",
              "      <td>0.0</td>\n",
              "      <td>0.0</td>\n",
              "      <td>0.0</td>\n",
              "      <td>0.0</td>\n",
              "      <td>0.0</td>\n",
              "      <td>0.0</td>\n",
              "      <td>0.0</td>\n",
              "      <td>0.0</td>\n",
              "      <td>0.0</td>\n",
              "      <td>0.0</td>\n",
              "      <td>0.0</td>\n",
              "      <td>0.0</td>\n",
              "      <td>0.0</td>\n",
              "      <td>1.0</td>\n",
              "      <td>0.0</td>\n",
              "      <td>1.0</td>\n",
              "      <td>0.0</td>\n",
              "      <td>0.0</td>\n",
              "      <td>0.0</td>\n",
              "      <td>0.0</td>\n",
              "      <td>0.0</td>\n",
              "      <td>0.0</td>\n",
              "      <td>0.0</td>\n",
              "      <td>0.0</td>\n",
              "      <td>0.0</td>\n",
              "      <td>0.0</td>\n",
              "      <td>0.0</td>\n",
              "      <td>0.0</td>\n",
              "      <td>0.0</td>\n",
              "      <td>0.0</td>\n",
              "      <td>1.0</td>\n",
              "    </tr>\n",
              "    <tr>\n",
              "      <th>4</th>\n",
              "      <td>0.497643</td>\n",
              "      <td>0.238282</td>\n",
              "      <td>0.637020</td>\n",
              "      <td>0.915420</td>\n",
              "      <td>0.0</td>\n",
              "      <td>0.0</td>\n",
              "      <td>0.0</td>\n",
              "      <td>0.0</td>\n",
              "      <td>0.0</td>\n",
              "      <td>0.0</td>\n",
              "      <td>0.0</td>\n",
              "      <td>0.0</td>\n",
              "      <td>0.0</td>\n",
              "      <td>0.0</td>\n",
              "      <td>0.0</td>\n",
              "      <td>1.0</td>\n",
              "      <td>0.0</td>\n",
              "      <td>0.0</td>\n",
              "      <td>0.0</td>\n",
              "      <td>0.0</td>\n",
              "      <td>0.0</td>\n",
              "      <td>0.0</td>\n",
              "      <td>0.0</td>\n",
              "      <td>0.0</td>\n",
              "      <td>0.0</td>\n",
              "      <td>0.0</td>\n",
              "      <td>1.0</td>\n",
              "      <td>0.0</td>\n",
              "      <td>0.0</td>\n",
              "      <td>0.0</td>\n",
              "      <td>0.0</td>\n",
              "      <td>0.0</td>\n",
              "      <td>1.0</td>\n",
              "      <td>0.0</td>\n",
              "      <td>0.0</td>\n",
              "    </tr>\n",
              "    <tr>\n",
              "      <th>...</th>\n",
              "      <td>...</td>\n",
              "      <td>...</td>\n",
              "      <td>...</td>\n",
              "      <td>...</td>\n",
              "      <td>...</td>\n",
              "      <td>...</td>\n",
              "      <td>...</td>\n",
              "      <td>...</td>\n",
              "      <td>...</td>\n",
              "      <td>...</td>\n",
              "      <td>...</td>\n",
              "      <td>...</td>\n",
              "      <td>...</td>\n",
              "      <td>...</td>\n",
              "      <td>...</td>\n",
              "      <td>...</td>\n",
              "      <td>...</td>\n",
              "      <td>...</td>\n",
              "      <td>...</td>\n",
              "      <td>...</td>\n",
              "      <td>...</td>\n",
              "      <td>...</td>\n",
              "      <td>...</td>\n",
              "      <td>...</td>\n",
              "      <td>...</td>\n",
              "      <td>...</td>\n",
              "      <td>...</td>\n",
              "      <td>...</td>\n",
              "      <td>...</td>\n",
              "      <td>...</td>\n",
              "      <td>...</td>\n",
              "      <td>...</td>\n",
              "      <td>...</td>\n",
              "      <td>...</td>\n",
              "      <td>...</td>\n",
              "    </tr>\n",
              "    <tr>\n",
              "      <th>5523</th>\n",
              "      <td>-0.200571</td>\n",
              "      <td>0.516876</td>\n",
              "      <td>0.926422</td>\n",
              "      <td>0.085250</td>\n",
              "      <td>0.0</td>\n",
              "      <td>0.0</td>\n",
              "      <td>0.0</td>\n",
              "      <td>0.0</td>\n",
              "      <td>0.0</td>\n",
              "      <td>0.0</td>\n",
              "      <td>0.0</td>\n",
              "      <td>0.0</td>\n",
              "      <td>0.0</td>\n",
              "      <td>0.0</td>\n",
              "      <td>0.0</td>\n",
              "      <td>0.0</td>\n",
              "      <td>1.0</td>\n",
              "      <td>0.0</td>\n",
              "      <td>0.0</td>\n",
              "      <td>0.0</td>\n",
              "      <td>0.0</td>\n",
              "      <td>1.0</td>\n",
              "      <td>0.0</td>\n",
              "      <td>0.0</td>\n",
              "      <td>0.0</td>\n",
              "      <td>0.0</td>\n",
              "      <td>0.0</td>\n",
              "      <td>0.0</td>\n",
              "      <td>0.0</td>\n",
              "      <td>0.0</td>\n",
              "      <td>0.0</td>\n",
              "      <td>0.0</td>\n",
              "      <td>0.0</td>\n",
              "      <td>0.0</td>\n",
              "      <td>1.0</td>\n",
              "    </tr>\n",
              "    <tr>\n",
              "      <th>5524</th>\n",
              "      <td>0.042683</td>\n",
              "      <td>-0.854269</td>\n",
              "      <td>0.854072</td>\n",
              "      <td>0.431154</td>\n",
              "      <td>0.0</td>\n",
              "      <td>0.0</td>\n",
              "      <td>0.0</td>\n",
              "      <td>0.0</td>\n",
              "      <td>0.0</td>\n",
              "      <td>0.0</td>\n",
              "      <td>1.0</td>\n",
              "      <td>0.0</td>\n",
              "      <td>0.0</td>\n",
              "      <td>0.0</td>\n",
              "      <td>0.0</td>\n",
              "      <td>0.0</td>\n",
              "      <td>0.0</td>\n",
              "      <td>0.0</td>\n",
              "      <td>0.0</td>\n",
              "      <td>0.0</td>\n",
              "      <td>0.0</td>\n",
              "      <td>0.0</td>\n",
              "      <td>1.0</td>\n",
              "      <td>0.0</td>\n",
              "      <td>0.0</td>\n",
              "      <td>0.0</td>\n",
              "      <td>0.0</td>\n",
              "      <td>0.0</td>\n",
              "      <td>0.0</td>\n",
              "      <td>0.0</td>\n",
              "      <td>0.0</td>\n",
              "      <td>1.0</td>\n",
              "      <td>0.0</td>\n",
              "      <td>0.0</td>\n",
              "      <td>0.0</td>\n",
              "    </tr>\n",
              "    <tr>\n",
              "      <th>5525</th>\n",
              "      <td>1.312364</td>\n",
              "      <td>1.022822</td>\n",
              "      <td>0.130566</td>\n",
              "      <td>0.016069</td>\n",
              "      <td>0.0</td>\n",
              "      <td>0.0</td>\n",
              "      <td>0.0</td>\n",
              "      <td>0.0</td>\n",
              "      <td>0.0</td>\n",
              "      <td>0.0</td>\n",
              "      <td>0.0</td>\n",
              "      <td>0.0</td>\n",
              "      <td>0.0</td>\n",
              "      <td>0.0</td>\n",
              "      <td>0.0</td>\n",
              "      <td>0.0</td>\n",
              "      <td>1.0</td>\n",
              "      <td>0.0</td>\n",
              "      <td>0.0</td>\n",
              "      <td>0.0</td>\n",
              "      <td>0.0</td>\n",
              "      <td>0.0</td>\n",
              "      <td>0.0</td>\n",
              "      <td>0.0</td>\n",
              "      <td>0.0</td>\n",
              "      <td>0.0</td>\n",
              "      <td>1.0</td>\n",
              "      <td>0.0</td>\n",
              "      <td>0.0</td>\n",
              "      <td>0.0</td>\n",
              "      <td>0.0</td>\n",
              "      <td>0.0</td>\n",
              "      <td>0.0</td>\n",
              "      <td>0.0</td>\n",
              "      <td>1.0</td>\n",
              "    </tr>\n",
              "    <tr>\n",
              "      <th>5526</th>\n",
              "      <td>-2.064278</td>\n",
              "      <td>-0.765762</td>\n",
              "      <td>-0.014135</td>\n",
              "      <td>1.053782</td>\n",
              "      <td>0.0</td>\n",
              "      <td>0.0</td>\n",
              "      <td>0.0</td>\n",
              "      <td>0.0</td>\n",
              "      <td>0.0</td>\n",
              "      <td>0.0</td>\n",
              "      <td>0.0</td>\n",
              "      <td>0.0</td>\n",
              "      <td>0.0</td>\n",
              "      <td>0.0</td>\n",
              "      <td>0.0</td>\n",
              "      <td>0.0</td>\n",
              "      <td>1.0</td>\n",
              "      <td>0.0</td>\n",
              "      <td>0.0</td>\n",
              "      <td>1.0</td>\n",
              "      <td>0.0</td>\n",
              "      <td>0.0</td>\n",
              "      <td>0.0</td>\n",
              "      <td>0.0</td>\n",
              "      <td>0.0</td>\n",
              "      <td>0.0</td>\n",
              "      <td>0.0</td>\n",
              "      <td>0.0</td>\n",
              "      <td>0.0</td>\n",
              "      <td>0.0</td>\n",
              "      <td>0.0</td>\n",
              "      <td>0.0</td>\n",
              "      <td>1.0</td>\n",
              "      <td>0.0</td>\n",
              "      <td>0.0</td>\n",
              "    </tr>\n",
              "    <tr>\n",
              "      <th>5527</th>\n",
              "      <td>-1.127723</td>\n",
              "      <td>-1.364248</td>\n",
              "      <td>-1.244095</td>\n",
              "      <td>-1.367548</td>\n",
              "      <td>0.0</td>\n",
              "      <td>0.0</td>\n",
              "      <td>0.0</td>\n",
              "      <td>0.0</td>\n",
              "      <td>0.0</td>\n",
              "      <td>0.0</td>\n",
              "      <td>0.0</td>\n",
              "      <td>0.0</td>\n",
              "      <td>0.0</td>\n",
              "      <td>0.0</td>\n",
              "      <td>0.0</td>\n",
              "      <td>0.0</td>\n",
              "      <td>1.0</td>\n",
              "      <td>0.0</td>\n",
              "      <td>0.0</td>\n",
              "      <td>0.0</td>\n",
              "      <td>0.0</td>\n",
              "      <td>0.0</td>\n",
              "      <td>1.0</td>\n",
              "      <td>0.0</td>\n",
              "      <td>0.0</td>\n",
              "      <td>0.0</td>\n",
              "      <td>0.0</td>\n",
              "      <td>0.0</td>\n",
              "      <td>0.0</td>\n",
              "      <td>0.0</td>\n",
              "      <td>0.0</td>\n",
              "      <td>1.0</td>\n",
              "      <td>0.0</td>\n",
              "      <td>0.0</td>\n",
              "      <td>0.0</td>\n",
              "    </tr>\n",
              "  </tbody>\n",
              "</table>\n",
              "<p>5528 rows × 35 columns</p>\n",
              "</div>"
            ],
            "text/plain": [
              "            0         1         2         3    4   ...   30   31   32   33   34\n",
              "0     1.050041  1.069415  0.202917  0.361973  0.0  ...  0.0  0.0  0.0  1.0  0.0\n",
              "1    -0.335614  0.439543  1.071124  1.192143  0.0  ...  0.0  0.0  1.0  0.0  0.0\n",
              "2    -0.200571 -0.550540 -0.158836  1.053782  0.0  ...  1.0  0.0  0.0  0.0  1.0\n",
              "3    -0.481884 -1.364248 -1.678198  0.777058  0.0  ...  0.0  0.0  0.0  0.0  1.0\n",
              "4     0.497643  0.238282  0.637020  0.915420  0.0  ...  0.0  0.0  1.0  0.0  0.0\n",
              "...        ...       ...       ...       ...  ...  ...  ...  ...  ...  ...  ...\n",
              "5523 -0.200571  0.516876  0.926422  0.085250  0.0  ...  0.0  0.0  0.0  0.0  1.0\n",
              "5524  0.042683 -0.854269  0.854072  0.431154  0.0  ...  0.0  1.0  0.0  0.0  0.0\n",
              "5525  1.312364  1.022822  0.130566  0.016069  0.0  ...  0.0  0.0  0.0  0.0  1.0\n",
              "5526 -2.064278 -0.765762 -0.014135  1.053782  0.0  ...  0.0  0.0  1.0  0.0  0.0\n",
              "5527 -1.127723 -1.364248 -1.244095 -1.367548  0.0  ...  0.0  1.0  0.0  0.0  0.0\n",
              "\n",
              "[5528 rows x 35 columns]"
            ]
          },
          "metadata": {
            "tags": []
          },
          "execution_count": 279
        }
      ]
    },
    {
      "cell_type": "markdown",
      "metadata": {
        "id": "1TwlakOUJa6n"
      },
      "source": [
        "- Feature order: Critic_Count, User_Count, Critic_Score, User_Score, Platform (4-18), Genre (19-30), Rating (31-34)\n",
        "- Categorical features sorted by alphabetical order, that is, 4 = 3DS, 19 = Action and 31 = E"
      ]
    },
    {
      "cell_type": "markdown",
      "metadata": {
        "id": "1j9x2rQQ8W-g"
      },
      "source": [
        "#### Transform labels with Box-Cox power transformation as well (it was also a tail-heavy distribution)"
      ]
    },
    {
      "cell_type": "code",
      "metadata": {
        "id": "31KD7TbRJOAA"
      },
      "source": [
        "Y_transform = PowerTransformer(method='box-cox', standardize=True)\n",
        "Y_train_final = Y_transform.fit_transform(Y_train.to_numpy().reshape(-1,1))\n",
        "Y_test_final = Y_transform.transform(Y_test.to_numpy().reshape(-1,1))"
      ],
      "execution_count": 280,
      "outputs": []
    },
    {
      "cell_type": "markdown",
      "metadata": {
        "id": "iE4lMjQYuwoM"
      },
      "source": [
        "#### Histogram comparisons (before and after power transformation)"
      ]
    },
    {
      "cell_type": "markdown",
      "metadata": {
        "id": "71-oc97mu28K"
      },
      "source": [
        "##### User_Count"
      ]
    },
    {
      "cell_type": "code",
      "metadata": {
        "colab": {
          "base_uri": "https://localhost:8080/",
          "height": 175
        },
        "id": "qEMl7CXtu_6z",
        "outputId": "f9afc190-3287-490c-ac87-9747f1b5a770"
      },
      "source": [
        "# BEFORE\n",
        "X_train['User_Count'].hist(figsize=(3,2))"
      ],
      "execution_count": 253,
      "outputs": [
        {
          "output_type": "execute_result",
          "data": {
            "text/plain": [
              "<matplotlib.axes._subplots.AxesSubplot at 0x7f08311f56d8>"
            ]
          },
          "metadata": {
            "tags": []
          },
          "execution_count": 253
        },
        {
          "output_type": "display_data",
          "data": {
            "image/png": "[encoded data removed]",
            "text/plain": [
              "<Figure size 216x144 with 1 Axes>"
            ]
          },
          "metadata": {
            "tags": [],
            "needs_background": "light"
          }
        }
      ]
    },
    {
      "cell_type": "code",
      "metadata": {
        "colab": {
          "base_uri": "https://localhost:8080/",
          "height": 209
        },
        "id": "O6gN2V-8vP58",
        "outputId": "571c524f-89c6-4e99-8462-7267fb65473b"
      },
      "source": [
        "# AFTER\n",
        "uc_transformed = PowerTransformer(method='box-cox', standardize=True).fit_transform(X_train['User_Count'].to_numpy().reshape(-1,1))\n",
        "pd.DataFrame(uc_transformed).hist(figsize=(3,2))"
      ],
      "execution_count": 254,
      "outputs": [
        {
          "output_type": "execute_result",
          "data": {
            "text/plain": [
              "array([[<matplotlib.axes._subplots.AxesSubplot object at 0x7f0831255160>]],\n",
              "      dtype=object)"
            ]
          },
          "metadata": {
            "tags": []
          },
          "execution_count": 254
        },
        {
          "output_type": "display_data",
          "data": {
            "image/png": "[encoded data removed]",
            "text/plain": [
              "<Figure size 216x144 with 1 Axes>"
            ]
          },
          "metadata": {
            "tags": [],
            "needs_background": "light"
          }
        }
      ]
    },
    {
      "cell_type": "markdown",
      "metadata": {
        "id": "UaewKPQmvq8T"
      },
      "source": [
        "##### Critic_Count"
      ]
    },
    {
      "cell_type": "code",
      "metadata": {
        "colab": {
          "base_uri": "https://localhost:8080/",
          "height": 175
        },
        "id": "E3LR0gtdvuHu",
        "outputId": "6e2ee3d6-74be-4f14-f0e4-9e861f317189"
      },
      "source": [
        "# BEFORE\n",
        "X_train['Critic_Count'].hist(figsize=(3,2))"
      ],
      "execution_count": 255,
      "outputs": [
        {
          "output_type": "execute_result",
          "data": {
            "text/plain": [
              "<matplotlib.axes._subplots.AxesSubplot at 0x7f0831277518>"
            ]
          },
          "metadata": {
            "tags": []
          },
          "execution_count": 255
        },
        {
          "output_type": "display_data",
          "data": {
            "image/png": "[encoded data removed]",
            "text/plain": [
              "<Figure size 216x144 with 1 Axes>"
            ]
          },
          "metadata": {
            "tags": [],
            "needs_background": "light"
          }
        }
      ]
    },
    {
      "cell_type": "code",
      "metadata": {
        "colab": {
          "base_uri": "https://localhost:8080/",
          "height": 209
        },
        "id": "pB5cHxsYvusV",
        "outputId": "4f389380-d35e-4bc6-b8c0-f236243cd0a3"
      },
      "source": [
        "# AFTER\n",
        "cc_transformed = PowerTransformer(method='box-cox', standardize=True).fit_transform(X_train['Critic_Count'].to_numpy().reshape(-1,1))\n",
        "pd.DataFrame(cc_transformed).hist(figsize=(3,2))"
      ],
      "execution_count": 256,
      "outputs": [
        {
          "output_type": "execute_result",
          "data": {
            "text/plain": [
              "array([[<matplotlib.axes._subplots.AxesSubplot object at 0x7f083120b080>]],\n",
              "      dtype=object)"
            ]
          },
          "metadata": {
            "tags": []
          },
          "execution_count": 256
        },
        {
          "output_type": "display_data",
          "data": {
            "image/png": "[encoded data removed]",
            "text/plain": [
              "<Figure size 216x144 with 1 Axes>"
            ]
          },
          "metadata": {
            "tags": [],
            "needs_background": "light"
          }
        }
      ]
    },
    {
      "cell_type": "markdown",
      "metadata": {
        "id": "FngAbAEgwKAr"
      },
      "source": [
        "##### Labels"
      ]
    },
    {
      "cell_type": "code",
      "metadata": {
        "colab": {
          "base_uri": "https://localhost:8080/",
          "height": 175
        },
        "id": "1MDV-Bc9wNf1",
        "outputId": "2ac19d30-94ff-441f-c5f8-cc8c2e3f91ed"
      },
      "source": [
        "# BEFORE\n",
        "Y_train.hist(figsize=(3,2))"
      ],
      "execution_count": 260,
      "outputs": [
        {
          "output_type": "execute_result",
          "data": {
            "text/plain": [
              "<matplotlib.axes._subplots.AxesSubplot at 0x7f082f3ab7b8>"
            ]
          },
          "metadata": {
            "tags": []
          },
          "execution_count": 260
        },
        {
          "output_type": "display_data",
          "data": {
            "image/png": "[encoded data removed]",
            "text/plain": [
              "<Figure size 216x144 with 1 Axes>"
            ]
          },
          "metadata": {
            "tags": [],
            "needs_background": "light"
          }
        }
      ]
    },
    {
      "cell_type": "code",
      "metadata": {
        "colab": {
          "base_uri": "https://localhost:8080/",
          "height": 209
        },
        "id": "L-Jl-4cJwlQj",
        "outputId": "a39961a2-7b6e-4e1c-e655-c8fc050a816a"
      },
      "source": [
        "# AFTER\n",
        "pd.DataFrame(Y_train_final).hist(figsize=(3,2))"
      ],
      "execution_count": 257,
      "outputs": [
        {
          "output_type": "execute_result",
          "data": {
            "text/plain": [
              "array([[<matplotlib.axes._subplots.AxesSubplot object at 0x7f083120b978>]],\n",
              "      dtype=object)"
            ]
          },
          "metadata": {
            "tags": []
          },
          "execution_count": 257
        },
        {
          "output_type": "display_data",
          "data": {
            "image/png": "[encoded data removed]",
            "text/plain": [
              "<Figure size 216x144 with 1 Axes>"
            ]
          },
          "metadata": {
            "tags": [],
            "needs_background": "light"
          }
        }
      ]
    },
    {
      "cell_type": "markdown",
      "metadata": {
        "id": "YqEWjbnw93sX"
      },
      "source": [
        "### 4) Train and compare models"
      ]
    },
    {
      "cell_type": "markdown",
      "metadata": {
        "id": "nOM4N2d1nOTx"
      },
      "source": [
        "#### Define baseline: median of train labels"
      ]
    },
    {
      "cell_type": "code",
      "metadata": {
        "id": "vWGJ7jc5nXJi"
      },
      "source": [
        "baseline_dict = {}\n",
        "baseline_dict['model_type'] = 'median_train'\n",
        "baseline_dict['name'] = 'baseline'\n",
        "\n",
        "median_train = np.median(Y_train_final)\n",
        "Y_train_pred = np.full(X_train.shape[0], median_train).reshape(-1,1)\n",
        "baseline_dict['train_rmse'] = mean_squared_error(Y_train_final, Y_train_pred, squared=False)\n",
        "Y_test_pred = np.full(X_test.shape[0], median_train).reshape(-1,1)\n",
        "baseline_dict['test_rmse'] = mean_squared_error(Y_test_final, Y_test_pred, squared=False)\n",
        "baseline_dict['pred_'+str(max_Y_train)] = max(Y_transform.inverse_transform(np.asarray([median_train]).reshape(-1,1)))[0]"
      ],
      "execution_count": 311,
      "outputs": []
    },
    {
      "cell_type": "markdown",
      "metadata": {
        "id": "h4bmDvnWnSnQ"
      },
      "source": [
        "#### Train and evaluate"
      ]
    },
    {
      "cell_type": "code",
      "metadata": {
        "id": "sW1IDtjLvHXX"
      },
      "source": [
        "def define_model(m_type, name, degree=None, hidden_layer_sizes=None, alpha=None):\n",
        "    m = dict()\n",
        "    m['m_type'] = m_type \n",
        "    m['name'] = name\n",
        "    m['degree'] = degree\n",
        "    m['hidden_layer_sizes'] = hidden_layer_sizes\n",
        "    m['alpha'] = alpha\n",
        "    return m\n",
        "\n",
        "def train_evaluate_model(m_type, name, degree, hidden_layer_sizes, alpha):    \n",
        "    models = {\n",
        "        'lin_reg': LinearRegression(),\n",
        "        # Lasso: L1 regularization\n",
        "        'lasso': Lasso(),\n",
        "        # Ridge: L2 regularization\n",
        "        'ridge': Ridge(),\n",
        "        'knn': KNeighborsRegressor(),\n",
        "        'poly_reg': make_pipeline(PolynomialFeatures(degree=degree), LinearRegression()),\n",
        "        'nn': MLPRegressor(hidden_layer_sizes=hidden_layer_sizes, activation='relu', solver='adam', alpha=alpha, batch_size='auto', learning_rate='adaptive', learning_rate_init=0.005, \\\n",
        "                           max_iter=100, verbose=False, beta_1=0.9, beta_2=0.999, epsilon=1e-08)\n",
        "    }  \n",
        "    \n",
        "    model = models.get(m_type, '')\n",
        "    model.fit(X_train_final, Y_train_final)\n",
        "    \n",
        "    # Predictions\n",
        "    Y_train_pred = model.predict(X_train_final)\n",
        "    Y_test_pred = model.predict(X_test_final)\n",
        "\n",
        "    evaluation_dict = dict()\n",
        "    evaluation_dict['model_type'] = m_type\n",
        "    if m_type == 'poly_reg':\n",
        "        evaluation_dict['name'] = name+'_'+str(degree)\n",
        "    else:\n",
        "        evaluation_dict['name'] = name\n",
        "    evaluation_dict['train_rmse'] = mean_squared_error(Y_train_final, Y_train_pred, squared=False)\n",
        "    evaluation_dict['test_rmse'] = mean_squared_error(Y_test_final, Y_test_pred, squared=False)\n",
        "    evaluation_dict['pred_'+str(max_Y_train)] = max(Y_transform.inverse_transform(Y_train_pred.reshape(-1,1)))[0]\n",
        "    return model, evaluation_dict\n",
        "\n",
        "def compare_models(eval_dict_list):\n",
        "    eval_dict_list.insert(0, baseline_dict)\n",
        "    df = pd.DataFrame(eval_dict_list)\n",
        "    \n",
        "    # idxmax: returns index of row with max column value\n",
        "    m_min_train_rmse = df.iloc[df['train_rmse'].idxmin()]['name']\n",
        "    m_min_test_rmse = df.iloc[df['test_rmse'].idxmin()]['name']\n",
        "    \n",
        "    print('Minimum Train RMSE: {}\\nMinimum Test RMSE: {}\\n'.format(m_min_train_rmse, m_min_test_rmse))\n",
        "    return df"
      ],
      "execution_count": 298,
      "outputs": []
    },
    {
      "cell_type": "code",
      "metadata": {
        "id": "iHyByxoJlxdu"
      },
      "source": [
        "lin_reg_dict = define_model(m_type='lin_reg', name='lin_reg')\n",
        "lasso_dict = define_model(m_type='lasso', name='lasso')\n",
        "ridge_dict = define_model(m_type='ridge', name='ridge')\n",
        "knn_dict = define_model(m_type='knn', name='knn')\n",
        "poly_reg_dict = define_model(m_type='poly_reg', name='poly_reg', degree=2)\n",
        "\n",
        "# NN\n",
        "# Default value for alpha\n",
        "nn_10_dict = define_model(m_type='nn', name='nn_10', hidden_layer_sizes=(10,), alpha=0.0001)\n",
        "nn_100_dict = define_model(m_type='nn', name='nn_100', hidden_layer_sizes=(100,), alpha=0.0001)\n",
        "# Optimal, according to Random Search (ran below)\n",
        "nn_opt_dict = define_model(m_type='nn', name='nn_opt', hidden_layer_sizes=(100,100,100), alpha=1.3631330640994466)"
      ],
      "execution_count": 296,
      "outputs": []
    },
    {
      "cell_type": "code",
      "metadata": {
        "colab": {
          "base_uri": "https://localhost:8080/",
          "height": 364
        },
        "id": "ju93TvTzmGFD",
        "outputId": "f973280f-b5ff-4137-c60a-c81ec46e7f1a"
      },
      "source": [
        "model_spec_list = [lin_reg_dict, lasso_dict, ridge_dict, knn_dict, poly_reg_dict, nn_10_dict, nn_100_dict, nn_opt_dict]\n",
        "\n",
        "model_list = []\n",
        "eval_dict_list = []\n",
        "\n",
        "for m in model_spec_list:\n",
        "    model, evaluation_dict = train_evaluate_model(m['m_type'], m['name'], m['degree'], m['hidden_layer_sizes'], m['alpha'])\n",
        "    model_list.append(model)\n",
        "    eval_dict_list.append(evaluation_dict)\n",
        "\n",
        "eval_df = compare_models(eval_dict_list)\n",
        "eval_df\n"
      ],
      "execution_count": 314,
      "outputs": [
        {
          "output_type": "stream",
          "text": [
            "Minimum Train RMSE: nn_100\n",
            "Minimum Test RMSE: nn_opt\n",
            "\n"
          ],
          "name": "stdout"
        },
        {
          "output_type": "execute_result",
          "data": {
            "text/html": [
              "<div>\n",
              "<style scoped>\n",
              "    .dataframe tbody tr th:only-of-type {\n",
              "        vertical-align: middle;\n",
              "    }\n",
              "\n",
              "    .dataframe tbody tr th {\n",
              "        vertical-align: top;\n",
              "    }\n",
              "\n",
              "    .dataframe thead th {\n",
              "        text-align: right;\n",
              "    }\n",
              "</style>\n",
              "<table border=\"1\" class=\"dataframe\">\n",
              "  <thead>\n",
              "    <tr style=\"text-align: right;\">\n",
              "      <th></th>\n",
              "      <th>model_type</th>\n",
              "      <th>name</th>\n",
              "      <th>train_rmse</th>\n",
              "      <th>test_rmse</th>\n",
              "      <th>pred_82.53</th>\n",
              "    </tr>\n",
              "  </thead>\n",
              "  <tbody>\n",
              "    <tr>\n",
              "      <th>0</th>\n",
              "      <td>median_train</td>\n",
              "      <td>baseline</td>\n",
              "      <td>1.0000</td>\n",
              "      <td>1.0268</td>\n",
              "      <td>0.2900</td>\n",
              "    </tr>\n",
              "    <tr>\n",
              "      <th>1</th>\n",
              "      <td>lin_reg</td>\n",
              "      <td>lin_reg</td>\n",
              "      <td>0.6870</td>\n",
              "      <td>0.7097</td>\n",
              "      <td>6.9172</td>\n",
              "    </tr>\n",
              "    <tr>\n",
              "      <th>2</th>\n",
              "      <td>lasso</td>\n",
              "      <td>lasso</td>\n",
              "      <td>1.0000</td>\n",
              "      <td>1.0267</td>\n",
              "      <td>0.2877</td>\n",
              "    </tr>\n",
              "    <tr>\n",
              "      <th>3</th>\n",
              "      <td>ridge</td>\n",
              "      <td>ridge</td>\n",
              "      <td>0.6870</td>\n",
              "      <td>0.7096</td>\n",
              "      <td>6.8533</td>\n",
              "    </tr>\n",
              "    <tr>\n",
              "      <th>4</th>\n",
              "      <td>knn</td>\n",
              "      <td>knn</td>\n",
              "      <td>0.5861</td>\n",
              "      <td>0.7254</td>\n",
              "      <td>9.5656</td>\n",
              "    </tr>\n",
              "    <tr>\n",
              "      <th>5</th>\n",
              "      <td>poly_reg</td>\n",
              "      <td>poly_reg_2</td>\n",
              "      <td>0.6103</td>\n",
              "      <td>88200964.7084</td>\n",
              "      <td>19.3288</td>\n",
              "    </tr>\n",
              "    <tr>\n",
              "      <th>6</th>\n",
              "      <td>nn</td>\n",
              "      <td>nn_10</td>\n",
              "      <td>0.6134</td>\n",
              "      <td>0.6777</td>\n",
              "      <td>15.1747</td>\n",
              "    </tr>\n",
              "    <tr>\n",
              "      <th>7</th>\n",
              "      <td>nn</td>\n",
              "      <td>nn_100</td>\n",
              "      <td>0.4794</td>\n",
              "      <td>0.7179</td>\n",
              "      <td>43.6744</td>\n",
              "    </tr>\n",
              "    <tr>\n",
              "      <th>8</th>\n",
              "      <td>nn</td>\n",
              "      <td>nn_opt</td>\n",
              "      <td>0.6206</td>\n",
              "      <td>0.6538</td>\n",
              "      <td>8.8727</td>\n",
              "    </tr>\n",
              "  </tbody>\n",
              "</table>\n",
              "</div>"
            ],
            "text/plain": [
              "     model_type        name  train_rmse     test_rmse  pred_82.53\n",
              "0  median_train    baseline      1.0000        1.0268      0.2900\n",
              "1       lin_reg     lin_reg      0.6870        0.7097      6.9172\n",
              "2         lasso       lasso      1.0000        1.0267      0.2877\n",
              "3         ridge       ridge      0.6870        0.7096      6.8533\n",
              "4           knn         knn      0.5861        0.7254      9.5656\n",
              "5      poly_reg  poly_reg_2      0.6103 88200964.7084     19.3288\n",
              "6            nn       nn_10      0.6134        0.6777     15.1747\n",
              "7            nn      nn_100      0.4794        0.7179     43.6744\n",
              "8            nn      nn_opt      0.6206        0.6538      8.8727"
            ]
          },
          "metadata": {
            "tags": []
          },
          "execution_count": 314
        }
      ]
    },
    {
      "cell_type": "markdown",
      "metadata": {
        "id": "azeypjkwKP_e"
      },
      "source": [
        "All columns are self-explanatory, except the last one, which is the prediction for the maximum Y training value"
      ]
    },
    {
      "cell_type": "markdown",
      "metadata": {
        "id": "qzcCQeOlKX0n"
      },
      "source": [
        "Table analysis:\n",
        "- nn_100 has a reasonable difference between train and test errors, which indicates overfitting (high variance). The default alpha value used is too small, so this result was expected\n",
        "- On the other hand, with less regularization, this NN does a better job at identifying best-sellers than the optimal NN discovered via Random Search\n",
        "- I also tested the polynomial regression with higher degrees. Similarly to the result for the model with 2, the values for the test RMSE were enormous, indicating very bad cases of overfitting (high variance)\n"
      ]
    },
    {
      "cell_type": "code",
      "metadata": {
        "colab": {
          "base_uri": "https://localhost:8080/",
          "height": 396
        },
        "id": "4ZtAWJkulDmM",
        "outputId": "97d5b81c-f5fd-4787-d399-c29c705e6ad0"
      },
      "source": [
        "# Plotting test errors (without polynomial)\n",
        "test_error_df = eval_df.loc[:,['name','test_rmse']].copy()\n",
        "test_error_df.drop(test_error_df.loc[test_error_df['name']=='poly_reg_2'].index, inplace=True)\n",
        "test_error_df = test_error_df.sort_values('test_rmse', ascending=False)\n",
        "\n",
        "fig = plt.figure()\n",
        "ax = fig.add_subplot(111)\n",
        "\n",
        "test_error_df.plot(x='name', y='test_rmse', kind='barh', color='c', legend=False, figsize=(6,6), grid=True, ax=ax)\n",
        "plt.yticks(size=14, color='w')\n",
        "plt.xticks(size=14, color='w')\n",
        "plt.ylabel(\"Models\", size=14, color='w')\n",
        "plt.xlabel(\"Test RMSE\", size=14, color='w')\n",
        "for i, v in enumerate(sorted(test_error_df['test_rmse'], reverse=True)):\n",
        "    plt.text(v-0.1, i, str(round(v,2)), color='w', va='center', size=12)\n",
        "plt.show()"
      ],
      "execution_count": 264,
      "outputs": [
        {
          "output_type": "display_data",
          "data": {
            "image/png": "[encoded data removed]",
            "text/plain": [
              "<Figure size 432x432 with 1 Axes>"
            ]
          },
          "metadata": {
            "tags": [],
            "needs_background": "dark"
          }
        }
      ]
    },
    {
      "cell_type": "markdown",
      "metadata": {
        "id": "KDndp1x6MKzG"
      },
      "source": [
        "#### Optimize NN"
      ]
    },
    {
      "cell_type": "markdown",
      "metadata": {
        "id": "IUYKFmyFMSFO"
      },
      "source": [
        "We could optimize for many hyperparameters for all models used: alpha for Lasso and Ridge, nummber of neighbors for KNN, degree for Polynomial and many more. But I decided to only use a quick Random Search for some crucial parameters of the NN, to check if it can quickly move away (towards better performance) from the other models"
      ]
    },
    {
      "cell_type": "code",
      "metadata": {
        "id": "6wYu0DZF8AJn"
      },
      "source": [
        "params = [\n",
        "    {'hidden_layer_sizes': [(10,), (50,), (100,), \\\n",
        "                            (10,10), (50,50), (100,100), \\\n",
        "                            (10,10,10), (50,50,50), (100,100,100), \\\n",
        "                            (10,10,10,10), (50,50,50,50), (100,100,100,100), \\\n",
        "                            (10,10,10,10,10), (50,50,50,50,50), (100,100,100,100,100)], \\\n",
        "     'alpha': uniform(0.01,10)}\n",
        "]\n",
        "\n",
        "nn_model = MLPRegressor(activation='relu', solver='adam', batch_size='auto', learning_rate='adaptive', learning_rate_init=0.005, \\\n",
        "                        max_iter=100, verbose=False, beta_1=0.9, beta_2=0.999, epsilon=1e-08)\n",
        "\n",
        "random_search = RandomizedSearchCV(nn_model, params, n_iter=500, scoring='neg_root_mean_squared_error', cv=2, return_train_score=True, n_jobs=-1, verbose=10)"
      ],
      "execution_count": 110,
      "outputs": []
    },
    {
      "cell_type": "code",
      "metadata": {
        "colab": {
          "base_uri": "https://localhost:8080/"
        },
        "id": "ksb4SfIT_Cev",
        "outputId": "3e13bd4f-b1be-4cef-d569-8777a9f3fd3b"
      },
      "source": [
        "random_search.fit(X_train_final, Y_train_final)"
      ],
      "execution_count": 111,
      "outputs": [
        {
          "output_type": "stream",
          "text": [
            "Fitting 2 folds for each of 500 candidates, totalling 1000 fits\n"
          ],
          "name": "stdout"
        },
        {
          "output_type": "stream",
          "text": [
            "[Parallel(n_jobs=-1)]: Using backend LokyBackend with 2 concurrent workers.\n",
            "[Parallel(n_jobs=-1)]: Done   1 tasks      | elapsed:    1.6s\n",
            "[Parallel(n_jobs=-1)]: Done   4 tasks      | elapsed:    4.2s\n",
            "[Parallel(n_jobs=-1)]: Done   9 tasks      | elapsed:    7.2s\n",
            "[Parallel(n_jobs=-1)]: Done  14 tasks      | elapsed:   11.2s\n",
            "[Parallel(n_jobs=-1)]: Done  21 tasks      | elapsed:   14.5s\n",
            "[Parallel(n_jobs=-1)]: Done  28 tasks      | elapsed:   23.1s\n",
            "[Parallel(n_jobs=-1)]: Done  37 tasks      | elapsed:   30.6s\n",
            "[Parallel(n_jobs=-1)]: Done  46 tasks      | elapsed:   37.8s\n",
            "[Parallel(n_jobs=-1)]: Done  57 tasks      | elapsed:   49.6s\n",
            "[Parallel(n_jobs=-1)]: Done  68 tasks      | elapsed:   53.8s\n",
            "[Parallel(n_jobs=-1)]: Done  81 tasks      | elapsed:  1.1min\n",
            "[Parallel(n_jobs=-1)]: Done  94 tasks      | elapsed:  1.3min\n",
            "[Parallel(n_jobs=-1)]: Done 109 tasks      | elapsed:  1.5min\n",
            "[Parallel(n_jobs=-1)]: Done 124 tasks      | elapsed:  1.7min\n",
            "[Parallel(n_jobs=-1)]: Done 141 tasks      | elapsed:  1.9min\n",
            "[Parallel(n_jobs=-1)]: Done 158 tasks      | elapsed:  2.2min\n",
            "[Parallel(n_jobs=-1)]: Done 177 tasks      | elapsed:  2.3min\n",
            "[Parallel(n_jobs=-1)]: Done 196 tasks      | elapsed:  2.6min\n",
            "[Parallel(n_jobs=-1)]: Done 217 tasks      | elapsed:  2.8min\n",
            "[Parallel(n_jobs=-1)]: Done 238 tasks      | elapsed:  3.0min\n",
            "[Parallel(n_jobs=-1)]: Done 261 tasks      | elapsed:  3.4min\n",
            "[Parallel(n_jobs=-1)]: Done 284 tasks      | elapsed:  3.7min\n",
            "[Parallel(n_jobs=-1)]: Done 309 tasks      | elapsed:  4.1min\n",
            "[Parallel(n_jobs=-1)]: Done 334 tasks      | elapsed:  4.4min\n",
            "[Parallel(n_jobs=-1)]: Done 361 tasks      | elapsed:  4.8min\n",
            "[Parallel(n_jobs=-1)]: Done 388 tasks      | elapsed:  5.1min\n",
            "[Parallel(n_jobs=-1)]: Done 417 tasks      | elapsed:  5.6min\n",
            "[Parallel(n_jobs=-1)]: Done 446 tasks      | elapsed:  6.1min\n",
            "[Parallel(n_jobs=-1)]: Done 477 tasks      | elapsed:  6.5min\n",
            "[Parallel(n_jobs=-1)]: Done 508 tasks      | elapsed:  6.9min\n",
            "[Parallel(n_jobs=-1)]: Done 541 tasks      | elapsed:  7.4min\n",
            "[Parallel(n_jobs=-1)]: Done 574 tasks      | elapsed:  7.8min\n",
            "[Parallel(n_jobs=-1)]: Done 609 tasks      | elapsed:  8.3min\n",
            "[Parallel(n_jobs=-1)]: Done 644 tasks      | elapsed:  8.8min\n",
            "[Parallel(n_jobs=-1)]: Done 681 tasks      | elapsed:  9.3min\n",
            "[Parallel(n_jobs=-1)]: Done 718 tasks      | elapsed:  9.7min\n",
            "[Parallel(n_jobs=-1)]: Done 757 tasks      | elapsed: 10.2min\n",
            "[Parallel(n_jobs=-1)]: Done 796 tasks      | elapsed: 10.9min\n",
            "[Parallel(n_jobs=-1)]: Done 837 tasks      | elapsed: 11.5min\n",
            "[Parallel(n_jobs=-1)]: Done 878 tasks      | elapsed: 12.2min\n",
            "[Parallel(n_jobs=-1)]: Done 921 tasks      | elapsed: 12.8min\n",
            "[Parallel(n_jobs=-1)]: Done 964 tasks      | elapsed: 13.6min\n",
            "[Parallel(n_jobs=-1)]: Done 1000 out of 1000 | elapsed: 14.3min finished\n"
          ],
          "name": "stderr"
        },
        {
          "output_type": "execute_result",
          "data": {
            "text/plain": [
              "RandomizedSearchCV(cv=2, error_score=nan,\n",
              "                   estimator=MLPRegressor(activation='relu', alpha=0.0001,\n",
              "                                          batch_size='auto', beta_1=0.9,\n",
              "                                          beta_2=0.999, early_stopping=False,\n",
              "                                          epsilon=1e-08,\n",
              "                                          hidden_layer_sizes=(100,),\n",
              "                                          learning_rate='adaptive',\n",
              "                                          learning_rate_init=0.005,\n",
              "                                          max_fun=15000, max_iter=100,\n",
              "                                          momentum=0.9, n_iter_no_change=10,\n",
              "                                          nesterovs_momentum=True, power_t=0.5,\n",
              "                                          random_...\n",
              "                   param_distributions=[{'alpha': <scipy.stats._distn_infrastructure.rv_frozen object at 0x7f083fa03208>,\n",
              "                                         'hidden_layer_sizes': [(10,), (50,),\n",
              "                                                                (100,),\n",
              "                                                                (10, 10),\n",
              "                                                                (50, 50),\n",
              "                                                                (100, 100),\n",
              "                                                                (10, 10, 10),\n",
              "                                                                (50, 50, 50),\n",
              "                                                                (100, 100, 100),\n",
              "                                                                (10, 10, 10,\n",
              "                                                                 10),\n",
              "                                                                (50, 50, 50,\n",
              "                                                                 50),\n",
              "                                                                (100, 100, 100,\n",
              "                                                                 100),\n",
              "                                                                (10, 10, 10, 10,\n",
              "                                                                 10),\n",
              "                                                                (50, 50, 50, 50,\n",
              "                                                                 50),\n",
              "                                                                (100, 100, 100,\n",
              "                                                                 100, 100)]}],\n",
              "                   pre_dispatch='2*n_jobs', random_state=None, refit=True,\n",
              "                   return_train_score=True,\n",
              "                   scoring='neg_root_mean_squared_error', verbose=10)"
            ]
          },
          "metadata": {
            "tags": []
          },
          "execution_count": 111
        }
      ]
    },
    {
      "cell_type": "code",
      "metadata": {
        "colab": {
          "base_uri": "https://localhost:8080/"
        },
        "id": "OEJnUcSMBY-r",
        "outputId": "bd42e667-471f-4f3b-9bb5-34efa7d4f831"
      },
      "source": [
        "# Check best params and corresponding score\n",
        "print(random_search.best_params_, min(-random_search_results['mean_test_score']))"
      ],
      "execution_count": 112,
      "outputs": [
        {
          "output_type": "stream",
          "text": [
            "{'alpha': 1.3631330640994466, 'hidden_layer_sizes': (100, 100, 100)} 0.6484048423953312\n"
          ],
          "name": "stdout"
        }
      ]
    },
    {
      "cell_type": "markdown",
      "metadata": {
        "id": "D55mQPK0yQUr"
      },
      "source": [
        "### 5) Next steps"
      ]
    },
    {
      "cell_type": "markdown",
      "metadata": {
        "id": "YYe2iLT3533_"
      },
      "source": [
        "#### Different features"
      ]
    },
    {
      "cell_type": "markdown",
      "metadata": {
        "id": "Ga4yP8thM7sX"
      },
      "source": [
        "- Weighted score\n",
        "- Different encodings for categorical variables"
      ]
    },
    {
      "cell_type": "markdown",
      "metadata": {
        "id": "PzpC3OHl6AQE"
      },
      "source": [
        "#### Feature importance"
      ]
    },
    {
      "cell_type": "markdown",
      "metadata": {
        "id": "jmgl3p5LNHrV"
      },
      "source": [
        "- Explore which features are the most relevant for some models"
      ]
    },
    {
      "cell_type": "markdown",
      "metadata": {
        "id": "fa73dXX1vbHh"
      },
      "source": [
        "#### Residual analysis"
      ]
    },
    {
      "cell_type": "markdown",
      "metadata": {
        "id": "LGg9s__EMt0f"
      },
      "source": [
        "Assumptions: \n",
        "- Constant variance of error terms\n",
        "- Uncorrelated error terms"
      ]
    }
  ]
}